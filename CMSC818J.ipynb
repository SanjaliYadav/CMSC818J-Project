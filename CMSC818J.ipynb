{
  "nbformat": 4,
  "nbformat_minor": 0,
  "metadata": {
    "colab": {
      "provenance": []
    },
    "kernelspec": {
      "name": "python3",
      "display_name": "Python 3"
    },
    "language_info": {
      "name": "python"
    }
  },
  "cells": [
    {
      "cell_type": "code",
      "execution_count": 1,
      "metadata": {
        "colab": {
          "base_uri": "https://localhost:8080/"
        },
        "id": "7zjMLPgLaOxa",
        "outputId": "932af58b-c815-4a3c-c513-0603a64a9f2c"
      },
      "outputs": [
        {
          "output_type": "stream",
          "name": "stdout",
          "text": [
            "Drive already mounted at /content/drive; to attempt to forcibly remount, call drive.mount(\"/content/drive\", force_remount=True).\n"
          ]
        }
      ],
      "source": [
        "from io import StringIO\n",
        "from scipy.io import mmread\n",
        "from scipy.io import mminfo\n",
        "from google.colab import drive\n",
        "drive.mount(\"/content/drive\")\n",
        "datAddr = \"/content/drive/MyDrive/\"\n",
        "from scipy.sparse import csr_matrix\n",
        "from scipy import sparse\n",
        "import numpy as np"
      ]
    },
    {
      "cell_type": "code",
      "source": [
        "m = mmread(datAddr+'tumorAntiAngiogenesis_6.mtx')\n",
        "mat_csr = m.tocsr()\n",
        "mat_csrB = m.tocsc()"
      ],
      "metadata": {
        "id": "tZYE67M_a8_a"
      },
      "execution_count": 2,
      "outputs": []
    },
    {
      "cell_type": "code",
      "source": [
        "def write_in_chunks(f, lst, n):\n",
        "    for i in range(0, len(lst), n):\n",
        "        chunk = lst[i : i+n]\n",
        "        f.write(\" \".join(str(val) for val in chunk) + \"\\n\")"
      ],
      "metadata": {
        "id": "whkbJRCRGai1"
      },
      "execution_count": null,
      "outputs": []
    },
    {
      "cell_type": "code",
      "source": [
        "with open(datAddr+'output3.txt', \"w\") as f:\n",
        "    write_in_chunks(f, m_csr.indices, 8)"
      ],
      "metadata": {
        "id": "MzSt_aliM3zu"
      },
      "execution_count": null,
      "outputs": []
    },
    {
      "cell_type": "markdown",
      "source": [
        "## Creating a small example to test on"
      ],
      "metadata": {
        "id": "aDO77Uu1ixfE"
      }
    },
    {
      "cell_type": "code",
      "source": [
        "# row_mat = 4\n",
        "# cols_mat= 4\n",
        "\n",
        "# mat1 = [[0 for _ in range(cols_mat)] for _ in range(row_mat)]\n",
        "# editing the individual elements\n",
        "# mat1[0][0], mat1[0][1], mat1[0][2], mat1[0][3] = 0,0,8,0\n",
        "# mat1[1][0], mat1[1][1], mat1[1][2], mat1[1][3] = 7,9,6,0\n",
        "# mat1[2][0], mat1[2][1], mat1[2][2], mat1[2][3] = 0,5,0,4\n",
        "# mat1[3][0], mat1[3][1], mat1[3][2], mat1[3][3] = 3,0,0,2\n",
        "# print(f'Matrix is {mat1}')\n",
        "# mat_csr = sparse.csr_matrix(mat1)\n",
        "# mat_csrB = sparse.csc_matrix(mat1)"
      ],
      "metadata": {
        "colab": {
          "base_uri": "https://localhost:8080/"
        },
        "id": "O2pgE5-igA3C",
        "outputId": "73c11a24-c75c-4c8b-8fea-76c0b7ac9c51"
      },
      "execution_count": 2,
      "outputs": [
        {
          "output_type": "stream",
          "name": "stdout",
          "text": [
            "Matrix is [[0, 0, 8, 0], [7, 9, 6, 0], [0, 5, 0, 4], [3, 0, 0, 2]]\n"
          ]
        }
      ]
    },
    {
      "cell_type": "markdown",
      "source": [
        "## Baseline Architecture \n",
        " "
      ],
      "metadata": {
        "id": "XquetqYhjW2Z"
      }
    },
    {
      "cell_type": "code",
      "source": [
        "def PE_mult(output_row_num, output_col_num):\n",
        "  PE_to_process = PE_lst.pop()\n",
        "  # ToDO: whichever the vector is or the row has fewer non-zeroes that list we iterate over that first \n",
        "  accumulation = 0\n",
        "  for col,data in B_dict.items():\n",
        "    if col in PE_to_process:\n",
        "      # multiply and then accumulate  \n",
        "      accumulation += PE_to_process[col] * data  \n",
        "  output_mat2[output_row_num][output_col_num] = accumulation \n",
        "      \n",
        "\n"
      ],
      "metadata": {
        "id": "2KF7JUygy4YA"
      },
      "execution_count": 3,
      "outputs": []
    },
    {
      "cell_type": "code",
      "source": [
        "mat_csrB_len = len(mat_csrB.indptr) - 1\n",
        "mat_csrA_len = len(mat_csr.indptr) - 1\n",
        "output_mat_len = len(mat_csrB.indptr) - 1\n",
        "# acts as the buffer that stores rows to be allocated to PEs\n",
        "PE_lst = []\n",
        "# matrix to store the file output \n",
        "output_mat2 = [[0 for _ in range(output_mat_len)] for _ in range(output_mat_len)]\n",
        "data_index_B = 0 \n",
        "row_index_B = 0\n",
        "pointer_index_B = 0 \n",
        "output_col_index = 0\n",
        "output_row_index = 0\n",
        "\n",
        "\n",
        "for j in range(mat_csrB_len): \n",
        "  numOfElems_B = (mat_csrB.indptr[pointer_index_B + 1] - mat_csrB.indptr[pointer_index_B])\n",
        "  data_row_B = mat_csrB.data[data_index_B:numOfElems_B+data_index_B]\n",
        "  col_B = mat_csrB.indices[row_index_B:numOfElems_B+data_index_B]\n",
        "  B_dict = dict(zip(col_B, data_row_B))\n",
        "  data_index_B += numOfElems_B\n",
        "  row_index_B += numOfElems_B\n",
        "  pointer_index_B += 1\n",
        "  data_index_A = 0\n",
        "  col_index_A = 0\n",
        "  pointer_index_A = 0\n",
        "  output_row_index = 0\n",
        "  for i in range(mat_csrA_len):\n",
        "    numOfElems = (mat_csr.indptr[pointer_index_A + 1] - mat_csr.indptr[pointer_index_A])\n",
        "    data_row_A = mat_csr.data[data_index_A:numOfElems+data_index_A]\n",
        "    row_A = mat_csr.indices[col_index_A:numOfElems+data_index_A]\n",
        "    PE_lst.append(dict(zip(row_A, data_row_A)))\n",
        "    data_index_A += numOfElems\n",
        "    col_index_A += numOfElems\n",
        "    pointer_index_A += 1\n",
        "    PE_mult(output_row_index, output_col_index)\n",
        "    output_row_index += 1\n",
        "    # numOfElems = (mat_csr.indptr[pointer_index_A + 1] - mat_csr.indptr[pointer_index_A])\n",
        "    # data_row_A = mat_csr.data[data_index_A:numOfElems+data_index_A]\n",
        "    # row_A = mat_csr.indices[col_index_A:numOfElems+data_index_A]\n",
        "    # PE_lst.append(dict(zip(row_A, data_row_A)))\n",
        "    # data_index_A += numOfElems\n",
        "    # col_index_A += numOfElems\n",
        "    # pointer_index_A += 1\n",
        "    # PE_mult(output_row_index, output_col_index )\n",
        "    # output_row_index += 1\n",
        "  output_col_index += 1 \n",
        "\n"
      ],
      "metadata": {
        "id": "8fTnJfD9jdgF"
      },
      "execution_count": 4,
      "outputs": []
    },
    {
      "cell_type": "code",
      "source": [
        "output_mat2\n",
        "output_mat2_reshape = np.reshape(output_mat2, (output_mat_len, output_mat_len))\n",
        "correct_output = np.dot(m.todense(),m.todense())\n",
        "np.allclose(output_mat2_reshape, correct_output)"
      ],
      "metadata": {
        "colab": {
          "base_uri": "https://localhost:8080/"
        },
        "id": "a0xKXudcMSK6",
        "outputId": "7830fb4e-7ebd-427e-cbb2-42aa0be9e137"
      },
      "execution_count": 5,
      "outputs": [
        {
          "output_type": "execute_result",
          "data": {
            "text/plain": [
              "True"
            ]
          },
          "metadata": {},
          "execution_count": 5
        }
      ]
    },
    {
      "cell_type": "markdown",
      "source": [
        "## Ideas\n",
        "1. Just have one PE list each of the PE's working on it can just pop. Can \n",
        "also have another list that stores row and col values that correponds to the \n",
        "PE list. \n",
        "2. For multiplication, for each col of matrix B we multiply it with all the rows of matrix A https://www.mathsisfun.com/algebra/matrix-multiplying.html \n",
        "3. So matrix B should be stored in csc format. \n",
        "4. The PE_lst is the buffer that stores all the computation that need to be done. We need to find a way for the PE to be assigned the next computation as soon as it is done. For that, we can pre-compute how many cycles the multiplication would take. \n",
        "5. For each PE, we need to store the idle cycles at the end. If a PE keeps getting assigned smaller non-zeros then it would stay idle more at the end. \n",
        "6. Have counters to measure load-imbalance \n",
        "7. Create a function that simulates reading from memory"
      ],
      "metadata": {
        "id": "3ek-6TUGK5ma"
      }
    }
  ]
}