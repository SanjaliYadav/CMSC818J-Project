{
  "nbformat": 4,
  "nbformat_minor": 0,
  "metadata": {
    "colab": {
      "provenance": []
    },
    "kernelspec": {
      "name": "python3",
      "display_name": "Python 3"
    },
    "language_info": {
      "name": "python"
    }
  },
  "cells": [
    {
      "cell_type": "code",
      "execution_count": 1,
      "metadata": {
        "colab": {
          "base_uri": "https://localhost:8080/"
        },
        "id": "7zjMLPgLaOxa",
        "outputId": "05517d5f-5bad-4794-c011-810ad3e1d879"
      },
      "outputs": [
        {
          "output_type": "stream",
          "name": "stdout",
          "text": [
            "Drive already mounted at /content/drive; to attempt to forcibly remount, call drive.mount(\"/content/drive\", force_remount=True).\n"
          ]
        }
      ],
      "source": [
        "from io import StringIO\n",
        "from scipy.io import mmread\n",
        "from scipy.io import mminfo\n",
        "from google.colab import drive\n",
        "drive.mount(\"/content/drive\")\n",
        "datAddr = \"/content/drive/MyDrive/\"\n",
        "from scipy.sparse import csr_matrix\n",
        "from scipy import sparse\n",
        "import numpy as np"
      ]
    },
    {
      "cell_type": "code",
      "source": [
        "m = mmread(datAddr+'tumorAntiAngiogenesis_6.mtx')\n",
        "m_csr = m.tocsr()"
      ],
      "metadata": {
        "id": "tZYE67M_a8_a"
      },
      "execution_count": null,
      "outputs": []
    },
    {
      "cell_type": "code",
      "source": [
        "def write_in_chunks(f, lst, n):\n",
        "    for i in range(0, len(lst), n):\n",
        "        chunk = lst[i : i+n]\n",
        "        f.write(\" \".join(str(val) for val in chunk) + \"\\n\")"
      ],
      "metadata": {
        "id": "whkbJRCRGai1"
      },
      "execution_count": null,
      "outputs": []
    },
    {
      "cell_type": "code",
      "source": [
        "with open(datAddr+'output3.txt', \"w\") as f:\n",
        "    write_in_chunks(f, m_csr.indices, 8)"
      ],
      "metadata": {
        "id": "MzSt_aliM3zu"
      },
      "execution_count": null,
      "outputs": []
    },
    {
      "cell_type": "markdown",
      "source": [
        "## Creating a small example to test on"
      ],
      "metadata": {
        "id": "aDO77Uu1ixfE"
      }
    },
    {
      "cell_type": "code",
      "source": [
        "row_mat = 4\n",
        "cols_mat= 4\n",
        "\n",
        "mat1 = [[0 for _ in range(cols_mat)] for _ in range(row_mat)]\n",
        "# editing the individual elements\n",
        "mat1[0][0], mat1[0][1], mat1[0][2], mat1[0][3] = 0,0,8,0\n",
        "mat1[1][0], mat1[1][1], mat1[1][2], mat1[1][3] = 7,9,6,0\n",
        "mat1[2][0], mat1[2][1], mat1[2][2], mat1[2][3] = 0,5,0,4\n",
        "mat1[3][0], mat1[3][1], mat1[3][2], mat1[3][3] = 3,0,0,2\n",
        "print(f'Matrix is {mat1}')\n",
        "mat_csr = sparse.csr_matrix(mat1)"
      ],
      "metadata": {
        "colab": {
          "base_uri": "https://localhost:8080/"
        },
        "id": "O2pgE5-igA3C",
        "outputId": "529529c7-a4d4-4316-a740-eb67f879cfc8"
      },
      "execution_count": 15,
      "outputs": [
        {
          "output_type": "stream",
          "name": "stdout",
          "text": [
            "Matrix is [[0, 0, 8, 0], [7, 9, 6, 0], [0, 5, 0, 4], [3, 0, 0, 2]]\n"
          ]
        }
      ]
    },
    {
      "cell_type": "markdown",
      "source": [
        "## Baseline Architecture \n",
        " "
      ],
      "metadata": {
        "id": "XquetqYhjW2Z"
      }
    },
    {
      "cell_type": "code",
      "source": [
        "def PE_mult(PE_lst_index, output_row_num, output_col_num):\n",
        "  # ToDO: whichever the vector is or the row has fewer non-zeroes that list we iterate over that first \n",
        "  accumulation = 0\n",
        "  for col,data in B_dict.items():\n",
        "    if col in PE_lst[PE_lst_index]:\n",
        "      # multiply and then accumulate  \n",
        "      accumulation += PE_lst[PE_lst_index][col] * data  \n",
        "  output_mat2[output_row_num][output_col_num] = accumulation \n",
        "      \n",
        "\n"
      ],
      "metadata": {
        "id": "2KF7JUygy4YA"
      },
      "execution_count": 63,
      "outputs": []
    },
    {
      "cell_type": "code",
      "source": [
        "PE_mult(0, 0, 0)\n",
        "PE_mult(1, 0, 1)\n",
        "PE_mult(2, 0, 2)\n",
        "PE_mult(3, 0, 3)"
      ],
      "metadata": {
        "id": "uwqDfJ3fI1P9"
      },
      "execution_count": 65,
      "outputs": []
    },
    {
      "cell_type": "code",
      "source": [
        "output_mat2"
      ],
      "metadata": {
        "colab": {
          "base_uri": "https://localhost:8080/"
        },
        "id": "a0xKXudcMSK6",
        "outputId": "d9d02272-56c8-4914-e193-6e9419106553"
      },
      "execution_count": 66,
      "outputs": [
        {
          "output_type": "execute_result",
          "data": {
            "text/plain": [
              "[[0, 7, 16, 11], [0, 0, 0, 0], [0, 0, 0, 0], [0, 0, 0, 0]]"
            ]
          },
          "metadata": {},
          "execution_count": 66
        }
      ]
    },
    {
      "cell_type": "code",
      "source": [
        "PE_lst = []\n",
        "output_mat2 = [[0 for _ in range(cols_mat)] for _ in range(row_mat)]\n",
        "data_index = 0\n",
        "col_index = 0\n",
        "pointer_index = 0\n",
        "\n",
        "# assigning the vector that will stay in PE\n",
        "dataB_row = [1, 4]\n",
        "colB_row = [0, 3]\n",
        "B_dict = dict(zip(colB_row, dataB_row))\n",
        "\n",
        "for i in range(4):\n",
        "  numOfElems = (mat_csr.indptr[pointer_index + 1] - mat_csr.indptr[pointer_index])\n",
        "  data_row = mat_csr.data[data_index:numOfElems+data_index]\n",
        "  col_row = mat_csr.indices[col_index:numOfElems+data_index]\n",
        "  print(data_row)\n",
        "  print(col_row)\n",
        "  PE_lst.append(dict(zip(col_row, data_row)))\n",
        "  data_index += numOfElems\n",
        "  col_index += numOfElems\n",
        "  pointer_index += 1\n",
        "\n",
        "print(PE_lst)\n"
      ],
      "metadata": {
        "colab": {
          "base_uri": "https://localhost:8080/"
        },
        "id": "8fTnJfD9jdgF",
        "outputId": "af4fad17-3849-4b4d-f3a5-37282a05be66"
      },
      "execution_count": 53,
      "outputs": [
        {
          "output_type": "stream",
          "name": "stdout",
          "text": [
            "[8]\n",
            "[2]\n",
            "[7 9 6]\n",
            "[0 1 2]\n",
            "[5 4]\n",
            "[1 3]\n",
            "[3 2]\n",
            "[0 3]\n",
            "[{2: 8}, {0: 7, 1: 9, 2: 6}, {1: 5, 3: 4}, {0: 3, 3: 2}]\n"
          ]
        }
      ]
    },
    {
      "cell_type": "code",
      "source": [
        "mat_csr.data[0:1]"
      ],
      "metadata": {
        "colab": {
          "base_uri": "https://localhost:8080/"
        },
        "id": "koWJ9kxJsAxT",
        "outputId": "b09fd95f-e7d1-4928-9ffe-59e7a2871290"
      },
      "execution_count": 10,
      "outputs": [
        {
          "output_type": "execute_result",
          "data": {
            "text/plain": [
              "array([8])"
            ]
          },
          "metadata": {},
          "execution_count": 10
        }
      ]
    }
  ]
}