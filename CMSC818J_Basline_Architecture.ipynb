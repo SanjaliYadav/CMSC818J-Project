{
  "nbformat": 4,
  "nbformat_minor": 0,
  "metadata": {
    "colab": {
      "provenance": []
    },
    "kernelspec": {
      "name": "python3",
      "display_name": "Python 3"
    },
    "language_info": {
      "name": "python"
    }
  },
  "cells": [
    {
      "cell_type": "code",
      "execution_count": 15,
      "metadata": {
        "colab": {
          "base_uri": "https://localhost:8080/"
        },
        "id": "7zjMLPgLaOxa",
        "outputId": "52d148e3-b84f-4db1-878e-8cda9d54b33c"
      },
      "outputs": [
        {
          "output_type": "stream",
          "name": "stdout",
          "text": [
            "Drive already mounted at /content/drive; to attempt to forcibly remount, call drive.mount(\"/content/drive\", force_remount=True).\n"
          ]
        }
      ],
      "source": [
        "from io import StringIO\n",
        "from scipy.io import mmread\n",
        "from scipy.io import mminfo\n",
        "from google.colab import drive\n",
        "drive.mount(\"/content/drive\")\n",
        "datAddr = \"/content/drive/MyDrive/CMSC818J_Test/\"\n",
        "from scipy.sparse import csr_matrix\n",
        "from scipy import sparse\n",
        "import numpy as np\n",
        "import sys"
      ]
    },
    {
      "cell_type": "code",
      "source": [
        "# Read the matrix in mtx format and convert it to csr format \n",
        "m = mmread(datAddr+'spaceShuttleEntry_3.mtx')\n",
        "mat_csr = m.tocsr()\n",
        "mat_csrB = m.tocsc()"
      ],
      "metadata": {
        "id": "tZYE67M_a8_a"
      },
      "execution_count": 23,
      "outputs": []
    },
    {
      "cell_type": "markdown",
      "source": [
        "## Creating a small example to test on"
      ],
      "metadata": {
        "id": "aDO77Uu1ixfE"
      }
    },
    {
      "cell_type": "code",
      "source": [
        "# row_mat = 4\n",
        "# cols_mat= 4\n",
        "\n",
        "# mat1 = [[0 for _ in range(cols_mat)] for _ in range(row_mat)]\n",
        "# editing the individual elements\n",
        "# mat1[0][0], mat1[0][1], mat1[0][2], mat1[0][3] = 0,0,8,0\n",
        "# mat1[1][0], mat1[1][1], mat1[1][2], mat1[1][3] = 7,9,6,0\n",
        "# mat1[2][0], mat1[2][1], mat1[2][2], mat1[2][3] = 0,5,0,4\n",
        "# mat1[3][0], mat1[3][1], mat1[3][2], mat1[3][3] = 3,0,0,2\n",
        "# print(f'Matrix is {mat1}')\n",
        "# mat_csr = sparse.csr_matrix(mat1)\n",
        "# mat_csrB = sparse.csc_matrix(mat1)"
      ],
      "metadata": {
        "colab": {
          "base_uri": "https://localhost:8080/"
        },
        "id": "O2pgE5-igA3C",
        "outputId": "73c11a24-c75c-4c8b-8fea-76c0b7ac9c51"
      },
      "execution_count": 2,
      "outputs": [
        {
          "output_type": "stream",
          "name": "stdout",
          "text": [
            "Matrix is [[0, 0, 8, 0], [7, 9, 6, 0], [0, 5, 0, 4], [3, 0, 0, 2]]\n"
          ]
        }
      ]
    },
    {
      "cell_type": "markdown",
      "source": [
        "## Baseline Architecture \n",
        " "
      ],
      "metadata": {
        "id": "XquetqYhjW2Z"
      }
    },
    {
      "cell_type": "markdown",
      "source": [
        "## Assumptions\n",
        "1. Each multiplication and accumulation takes 3 cycles\n",
        "2. Reading the rows from memory takes 2 cycles\n",
        "3. Storing the result of multiplication and accumulation takes 1 cycle. NO merging required since we are implementing inner product. \n",
        "4. PEs write back the output in parallel and can read the input in parallel"
      ],
      "metadata": {
        "id": "y7bc1CwVDcqu"
      }
    },
    {
      "cell_type": "code",
      "source": [
        "# ENUMS for PE_stats\n",
        "NUMBER_OF_CYCLES = 1 \n",
        "MAX_NUM_NON_ZEROS = 2\n",
        "MIN_NUM_NON_ZEROS = 3\n",
        "\n",
        "total_PEs= 2 # number of PEs available. Can change this number as required\n",
        "PE_stats = []\n",
        "for i in range(total_PEs):\n",
        "  PE_stat = dict()\n",
        "  PE_stat[NUMBER_OF_CYCLES] = 0 \n",
        "  PE_stat[MAX_NUM_NON_ZEROS] = 0 \n",
        "  PE_stat[MIN_NUM_NON_ZEROS ] = sys.maxsize\n",
        "  PE_stats.append(PE_stat)\n",
        "PE_stats"
      ],
      "metadata": {
        "colab": {
          "base_uri": "https://localhost:8080/"
        },
        "id": "z2TYGwp2C_zY",
        "outputId": "9944d63a-a140-4b5c-c274-e36691518e4e"
      },
      "execution_count": 24,
      "outputs": [
        {
          "output_type": "execute_result",
          "data": {
            "text/plain": [
              "[{1: 0, 2: 0, 3: 9223372036854775807}, {1: 0, 2: 0, 3: 9223372036854775807}]"
            ]
          },
          "metadata": {},
          "execution_count": 24
        }
      ]
    },
    {
      "cell_type": "code",
      "source": [
        "# Simulates PE MAC operations\n",
        "def PE_mult(output_row_num, output_col_num):\n",
        "  PE_to_process = PE_lst.pop()\n",
        "  accumulation = 0\n",
        "  # optimization for inner product: whichever dictionary has smallest non-zeros, we iterate over that. \n",
        "  if len(B_dict) < len(PE_to_process):\n",
        "    for col,data in B_dict.items():\n",
        "      if col in PE_to_process:\n",
        "        # multiply and then accumulate  \n",
        "        accumulation += PE_to_process[col] * data \n",
        "        PE_stats[PE_num][NUMBER_OF_CYCLES] += 3\n",
        "    output_mat2[output_row_num][output_col_num] = accumulation \n",
        "    PE_stats[PE_num][NUMBER_OF_CYCLES] += 1\n",
        "  else:\n",
        "    for col,data in PE_to_process.items():\n",
        "      if col in B_dict:\n",
        "        # multiply and then accumulate  \n",
        "        accumulation += B_dict[col] * data \n",
        "        PE_stats[PE_num][NUMBER_OF_CYCLES] += 3 \n",
        "\n",
        "    output_mat2[output_row_num][output_col_num] = accumulation\n",
        "    # Update PE stats\n",
        "    PE_stats[PE_num][NUMBER_OF_CYCLES] += 1\n",
        "    \n",
        "  if len(PE_to_process) > PE_stats[PE_num][MAX_NUM_NON_ZEROS]: \n",
        "      PE_stats[PE_num][MAX_NUM_NON_ZEROS] = len(PE_to_process)\n",
        "  elif len(PE_to_process) < PE_stats[PE_num][MIN_NUM_NON_ZEROS]: \n",
        "      PE_stats[PE_num][MIN_NUM_NON_ZEROS] = len(PE_to_process)\n",
        "      \n",
        "\n"
      ],
      "metadata": {
        "id": "2KF7JUygy4YA"
      },
      "execution_count": 25,
      "outputs": []
    },
    {
      "cell_type": "code",
      "source": [
        "mat_csrB_len = len(mat_csrB.indptr) - 1\n",
        "mat_csrA_len = len(mat_csr.indptr) - 1\n",
        "output_mat_len = len(mat_csrB.indptr) - 1\n",
        "PE_num = 0\n",
        "\n",
        "# acts as the buffer that stores rows to be allocated to PEs\n",
        "PE_lst = []\n",
        "# matrix to store the file output \n",
        "output_mat2 = [[0 for _ in range(output_mat_len)] for _ in range(output_mat_len)]\n",
        "data_index_B = 0 \n",
        "row_index_B = 0\n",
        "pointer_index_B = 0 \n",
        "output_col_index = 0\n",
        "output_row_index = 0\n",
        "\n",
        "\n",
        "for j in range(mat_csrB_len): \n",
        "  # Decode col of matrix B from csc format\n",
        "  numOfElems_B = (mat_csrB.indptr[pointer_index_B + 1] - mat_csrB.indptr[pointer_index_B])\n",
        "  data_row_B = mat_csrB.data[data_index_B:numOfElems_B+data_index_B]\n",
        "  col_B = mat_csrB.indices[row_index_B:numOfElems_B+data_index_B]\n",
        "\n",
        "  # The decoded cols and corresponding data values are zipped into a dictionary \n",
        "  # data structure to easily pattern match with rows when computing inner product\n",
        "  B_dict = dict(zip(col_B, data_row_B))\n",
        "  data_index_B += numOfElems_B\n",
        "  row_index_B += numOfElems_B\n",
        "  pointer_index_B += 1\n",
        "  data_index_A = 0\n",
        "  col_index_A = 0\n",
        "  pointer_index_A = 0\n",
        "  output_row_index = 0\n",
        "  for i in range(mat_csrA_len):\n",
        "    # Decode rows of matrix A from csr format \n",
        "    numOfElems = (mat_csr.indptr[pointer_index_A + 1] - mat_csr.indptr[pointer_index_A])\n",
        "    data_row_A = mat_csr.data[data_index_A:numOfElems+data_index_A]\n",
        "    row_A = mat_csr.indices[col_index_A:numOfElems+data_index_A]\n",
        "    PE_lst.append(dict(zip(row_A, data_row_A)))\n",
        "    data_index_A += numOfElems\n",
        "    col_index_A += numOfElems\n",
        "    pointer_index_A += 1\n",
        "    # allocate it to a PE using round-robin strategy \n",
        "    PE_mult(output_row_index, output_col_index)\n",
        "    PE_num = (PE_num + 1) % total_PEs \n",
        "    output_row_index += 1\n",
        "  output_col_index += 1 \n",
        "\n"
      ],
      "metadata": {
        "id": "8fTnJfD9jdgF"
      },
      "execution_count": 26,
      "outputs": []
    },
    {
      "cell_type": "code",
      "source": [
        "output_mat2\n",
        "output_mat2_reshape = np.reshape(output_mat2, (output_mat_len, output_mat_len))\n",
        "correct_output = np.dot(m.todense(),m.todense())\n",
        "# Validates if matrix multiplication is done correctly\n",
        "print(np.allclose(output_mat2_reshape, correct_output))\n",
        "# prints the number of cycles per PE, max and min number of zeros per PE\n",
        "print(PE_stats)"
      ],
      "metadata": {
        "colab": {
          "base_uri": "https://localhost:8080/"
        },
        "id": "a0xKXudcMSK6",
        "outputId": "11bdade6-2f6b-48b7-f56e-a17afb589774"
      },
      "execution_count": 27,
      "outputs": [
        {
          "output_type": "stream",
          "name": "stdout",
          "text": [
            "True\n",
            "[{1: 6647135, 2: 30, 3: 2}, {1: 6749126, 2: 1700, 3: 2}]\n"
          ]
        }
      ]
    },
    {
      "cell_type": "markdown",
      "source": [
        "## Ideas\n",
        "1. Just have one PE list each of the PE's working on it can just pop. Can \n",
        "also have another list that stores row and col values that correponds to the \n",
        "PE list. \n",
        "2. For multiplication, for each col of matrix B we multiply it with all the rows of matrix A https://www.mathsisfun.com/algebra/matrix-multiplying.html \n",
        "3. So matrix B should be stored in csc format. \n",
        "4. The PE_lst is the buffer that stores all the computation that need to be done. We need to find a way for the PE to be assigned the next computation as soon as it is done. For that, we can pre-compute how many cycles the multiplication would take. \n",
        "5. For each PE, we need to store the idle cycles at the end. If a PE keeps getting assigned smaller non-zeros then it would stay idle more at the end. \n",
        "6. Have counters to measure load-imbalance \n",
        "7. Create a function that simulates reading from memory"
      ],
      "metadata": {
        "id": "3ek-6TUGK5ma"
      }
    }
  ]
}