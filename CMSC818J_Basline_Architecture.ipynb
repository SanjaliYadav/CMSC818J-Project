{
  "cells": [
    {
      "cell_type": "code",
      "execution_count": 1,
      "metadata": {
        "colab": {
          "base_uri": "https://localhost:8080/"
        },
        "id": "7zjMLPgLaOxa",
        "outputId": "11da1d55-0625-402f-9c24-8c83c9aa7574"
      },
      "outputs": [
        {
          "output_type": "stream",
          "name": "stdout",
          "text": [
            "Drive already mounted at /content/drive; to attempt to forcibly remount, call drive.mount(\"/content/drive\", force_remount=True).\n"
          ]
        }
      ],
      "source": [
        "from io import StringIO\n",
        "from scipy.io import mmread\n",
        "from scipy.io import mminfo\n",
        "from google.colab import drive\n",
        "drive.mount(\"/content/drive\")\n",
        "datAddr = \"/content/drive/MyDrive/CMSC818J_Test/\"\n",
        "from scipy.sparse import csr_matrix\n",
        "from scipy import sparse\n",
        "import numpy as np\n",
        "import sys\n",
        "import os\n",
        "import csv"
      ]
    },
    {
      "cell_type": "markdown",
      "metadata": {
        "id": "XquetqYhjW2Z"
      },
      "source": [
        "## Baseline Architecture \n",
        " "
      ]
    },
    {
      "cell_type": "markdown",
      "metadata": {
        "id": "y7bc1CwVDcqu"
      },
      "source": [
        "### Assumptions\n",
        "\n",
        "1.   Each multiplication and accumulation takes 4 cycles\n",
        "2.   Reading the rows from memory takes 4 cycles\n",
        "3.   Storing the output takes 2 cycle \n",
        "4. PEs can read, compute and write back in parallel\n",
        "\n",
        "\n",
        "\n"
      ]
    },
    {
      "cell_type": "code",
      "execution_count": 2,
      "metadata": {
        "id": "j6_Gve1V4f_Y"
      },
      "outputs": [],
      "source": [
        "def add_idle_cycles (cycles_num):\n",
        "  for i in range(total_PEs):\n",
        "    PE_stats[i][IDLE_CYCLES] += cycles_num "
      ]
    },
    {
      "cell_type": "code",
      "execution_count": 3,
      "metadata": {
        "id": "hMz0TYYq2KFA"
      },
      "outputs": [],
      "source": [
        "def add_idle_cycles2(idle_cycle_list, max_nonzero_per_PE):\n",
        "  for i in range(total_PEs):\n",
        "    PE_stats[i][IDLE_CYCLES] += max_nonzero_per_PE - idle_cycle_list[i] "
      ]
    },
    {
      "cell_type": "code",
      "execution_count": 4,
      "metadata": {
        "id": "2KF7JUygy4YA"
      },
      "outputs": [],
      "source": [
        "# Simulates PE MAC operations\n",
        "def PE_mult(output_col_num):\n",
        "  PE_to_process = PE_lst.pop(0)\n",
        "  row_num = PE_output_index.pop(0) \n",
        "  accumulation = 0\n",
        "  # optimization for inner product: whichever dictionary has smallest non-zeros, we iterate over that. \n",
        "  if len(B_dict) < len(PE_to_process):\n",
        "    for col,data in B_dict.items():\n",
        "      if col in PE_to_process:\n",
        "        # multiply and then accumulate  \n",
        "        accumulation += PE_to_process[col] * data \n",
        "        PE_stats[PE_num][BUSY_CYCLES] += 4\n",
        "    output_mat2[row_num][output_col_num] = accumulation \n",
        "  else:\n",
        "    for col,data in PE_to_process.items():\n",
        "      if col in B_dict:\n",
        "        # multiply and then accumulate  \n",
        "        accumulation += B_dict[col] * data \n",
        "        PE_stats[PE_num][BUSY_CYCLES] += 4 \n",
        "\n",
        "    output_mat2[row_num][output_col_num] = accumulation\n",
        "    # Update PE stats\n",
        "    \n",
        "    \n",
        "  if len(PE_to_process) > PE_stats[PE_num][MAX_NUM_NON_ZEROS]: \n",
        "      PE_stats[PE_num][MAX_NUM_NON_ZEROS] = len(PE_to_process)\n",
        "  elif len(PE_to_process) < PE_stats[PE_num][MIN_NUM_NON_ZEROS]: \n",
        "      PE_stats[PE_num][MIN_NUM_NON_ZEROS] = len(PE_to_process)\n",
        "\n",
        "\n"
      ]
    },
    {
      "cell_type": "code",
      "source": [
        "\n",
        "## ENUMS for PE_stats\n",
        "BUSY_CYCLES = 1\n",
        "MAX_NUM_NON_ZEROS = 2\n",
        "MIN_NUM_NON_ZEROS = 3\n",
        "IDLE_CYCLES = 4\n",
        "CYCLE_TO_READ = 4\n",
        "CYCLES_TO_ADD = 4 # per element \n",
        "CYCLES_TO_ACCUMULATE = 2 "
      ],
      "metadata": {
        "id": "F-RSIaW2d6M1"
      },
      "execution_count": 5,
      "outputs": []
    },
    {
      "cell_type": "code",
      "execution_count": 6,
      "metadata": {
        "id": "ZczGl_FLnATs"
      },
      "outputs": [],
      "source": [
        "def sort_computer_rows(data_index_A, col_index_A, pointer_index_A, output_row_index, TOTAL_NUMBER_OF_CYCLES):\n",
        "  PE_rows_read = dict() \n",
        "  PE_rows_index = dict()\n",
        "  max_nonzero_per_PE = 0 # keeps track of max number of nonzero per PE in one allocation cycle\n",
        "  idle_cycle_list = [] # keeps track of idle cycles for each PE per allocation\n",
        "\n",
        "  for i in range(total_PEs):\n",
        "    idle_cycle_list.append(0)\n",
        "\n",
        "  for i in range(total_PEs):\n",
        "    if pointer_index_A < mat_csrA_len:\n",
        "      numOfElems = (mat_csr.indptr[pointer_index_A + 1] - mat_csr.indptr[pointer_index_A])\n",
        "      data_row_A = mat_csr.data[data_index_A:numOfElems+data_index_A]\n",
        "      row_A = mat_csr.indices[col_index_A:numOfElems+data_index_A]\n",
        "      PE_lst.append(dict(zip(row_A, data_row_A)))\n",
        "      PE_output_index.append(output_row_index)\n",
        "      data_index_A += numOfElems\n",
        "      col_index_A += numOfElems\n",
        "      pointer_index_A += 1\n",
        "      output_row_index += 1\n",
        "      \n",
        "      # find the max number of non-zeroes in all the PEs. Encodes that \n",
        "      # the PEs have to wait for each other. \n",
        "      if output_row_index % total_PEs != 0 :\n",
        "        max_nonzero_per_PE = max(max_nonzero_per_PE, numOfElems)\n",
        "        idle_cycle_list[output_row_index % total_PEs] = numOfElems \n",
        "      else:\n",
        "        TOTAL_NUMBER_OF_CYCLES += max_nonzero_per_PE * CYCLES_TO_ADD\n",
        "        TOTAL_NUMBER_OF_CYCLES += CYCLES_TO_ACCUMULATE # For accumulation \n",
        "        add_idle_cycles2(idle_cycle_list, max_nonzero_per_PE)\n",
        "        max_nonzero_per_PE = 0  \n",
        "       \n",
        "  return (data_index_A, col_index_A, pointer_index_A, output_row_index, TOTAL_NUMBER_OF_CYCLES)"
      ]
    },
    {
      "cell_type": "code",
      "execution_count": null,
      "metadata": {
        "id": "ApFzexdvq800"
      },
      "outputs": [],
      "source": [
        "directory = os.fsencode(datAddr)\n",
        "\n",
        "for pe_num in range(2, 10, 2):\n",
        "\n",
        "  with open('/content/drive/MyDrive/CMSC818J_Data/Baseline_PE' + str(pe_num) + '.csv', 'w', newline='') as file:\n",
        "    writer = csv.writer(file)    \n",
        "    for file in os.listdir(directory):\n",
        "        filename = os.fsdecode(file)\n",
        "        print(filename)\n",
        "\n",
        "        ## Read the file \n",
        "        m = mmread(datAddr+filename)\n",
        "        mat_csr = m.tocsr()\n",
        "        mat_csrB = m.tocsc()\n",
        "\n",
        "        ## Init for PE stats \n",
        "        total_PEs = pe_num # number of PEs available. Can change this number as required\n",
        "        PE_stats = []\n",
        "        for i in range(total_PEs):\n",
        "          PE_stat = dict()\n",
        "          PE_stat[BUSY_CYCLES] = 0  \n",
        "          PE_stat[MAX_NUM_NON_ZEROS] = 0 \n",
        "          PE_stat[MIN_NUM_NON_ZEROS ] = sys.maxsize\n",
        "          PE_stat[IDLE_CYCLES] = 0\n",
        "          PE_stats.append(PE_stat)\n",
        "        PE_stats\n",
        "\n",
        "\n",
        "        mat_csrB_len = len(mat_csrB.indptr) - 1\n",
        "        mat_csrA_len = len(mat_csr.indptr) - 1\n",
        "        output_mat_len = len(mat_csrB.indptr) - 1\n",
        "        PE_num = 0\n",
        "        TOTAL_NUMBER_OF_CYCLES = 0\n",
        "\n",
        "        TOTAL_NUMBER_OF_CYCLES += CYCLE_TO_READ # For reading elements, one time cost rest of them are amortized with PE computations\n",
        "        add_idle_cycles(CYCLE_TO_READ)\n",
        "        # acts as the buffer that stores rows to be allocated to PEs\n",
        "        PE_lst = []\n",
        "        PE_output_index = []\n",
        "        # matrix to store the file output \n",
        "        output_mat2 = [[0 for _ in range(output_mat_len)] for _ in range(output_mat_len)]\n",
        "        data_index_B = 0 \n",
        "        row_index_B = 0\n",
        "        pointer_index_B = 0 \n",
        "        output_col_index = 0\n",
        "        output_row_index = 0\n",
        "\n",
        "\n",
        "        for j in range(mat_csrB_len): \n",
        "          # Decode col of matrix B from csc format\n",
        "          numOfElems_B = (mat_csrB.indptr[pointer_index_B + 1] - mat_csrB.indptr[pointer_index_B])\n",
        "          data_row_B = mat_csrB.data[data_index_B:numOfElems_B+data_index_B]\n",
        "          col_B = mat_csrB.indices[row_index_B:numOfElems_B+data_index_B]\n",
        "\n",
        "          # The decoded cols and corresponding data values are zipped into a dictionary \n",
        "          # data structure to easily pattern match with rows when computing inner product\n",
        "          B_dict = dict(zip(col_B, data_row_B))\n",
        "          data_index_B += numOfElems_B\n",
        "          row_index_B += numOfElems_B\n",
        "          pointer_index_B += 1\n",
        "          data_index_A = 0\n",
        "          col_index_A = 0\n",
        "          pointer_index_A = 0\n",
        "          output_row_index = 0\n",
        "          for i in range(mat_csrA_len):\n",
        "            # Decode rows of matrix A from csr format \n",
        "            if not PE_lst:\n",
        "              # TOTAL_NUMBER_OF_CYCLES += 1 \n",
        "              # add_idle_cycles(1, -1)\n",
        "              data_index_A, col_index_A, pointer_index_A, output_row_index, TOTAL_NUMBER_OF_CYCLES = sort_computer_rows(data_index_A, col_index_A, pointer_index_A, output_row_index, TOTAL_NUMBER_OF_CYCLES)\n",
        "            # allocate it to a PE using round-robin strategy \n",
        "            PE_mult(output_col_index)\n",
        "            PE_num = (PE_num + 1) % total_PEs \n",
        "          output_col_index += 1 \n",
        "\n",
        "        output_mat2\n",
        "        output_mat2_reshape = np.reshape(output_mat2, (output_mat_len, output_mat_len))\n",
        "        correct_output = np.dot(m.todense(),m.todense())\n",
        "        # Validates if matrix multiplication is done correctly\n",
        "        print(np.allclose(output_mat2_reshape, correct_output))\n",
        "        # prints the number of cycles per PE, max and min number of zeros per PE\n",
        "        string = [filename, TOTAL_NUMBER_OF_CYCLES]\n",
        "        for pe in range(pe_num):\n",
        "          for stat_num in range(1, 5, 1):\n",
        "            string.append(PE_stats[pe][stat_num])\n",
        "\n",
        "        writer.writerow(string)\n",
        "      \n",
        "\n",
        "\n",
        "\n"
      ]
    }
  ],
  "metadata": {
    "colab": {
      "provenance": []
    },
    "kernelspec": {
      "display_name": "Python 3",
      "name": "python3"
    },
    "language_info": {
      "name": "python"
    }
  },
  "nbformat": 4,
  "nbformat_minor": 0
}